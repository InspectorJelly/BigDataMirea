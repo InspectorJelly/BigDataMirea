{
  "nbformat": 4,
  "nbformat_minor": 0,
  "metadata": {
    "colab": {
      "provenance": []
    },
    "kernelspec": {
      "name": "python3",
      "display_name": "Python 3"
    },
    "language_info": {
      "name": "python"
    }
  },
  "cells": [
    {
      "cell_type": "markdown",
      "source": [
        "# Практическая работа 7"
      ],
      "metadata": {
        "id": "xaWfAFiGXAe8"
      }
    },
    {
      "cell_type": "code",
      "execution_count": 9,
      "metadata": {
        "id": "DmEB8Gx1W_hz"
      },
      "outputs": [],
      "source": [
        "import pandas as pd\n",
        "import time\n",
        "from sklearn.ensemble import BaggingClassifier\n",
        "from sklearn.tree import DecisionTreeClassifier\n",
        "from sklearn.model_selection import train_test_split\n",
        "from sklearn.metrics import accuracy_score\n",
        "from sklearn.preprocessing import StandardScaler\n",
        "from xgboost import XGBClassifier"
      ]
    },
    {
      "cell_type": "markdown",
      "source": [
        "## Задание 1\n",
        "Найти данные для задачи классификации или для задачи регрессии"
      ],
      "metadata": {
        "id": "bCdxJAxdXGva"
      }
    },
    {
      "cell_type": "code",
      "source": [
        "url = 'https://raw.githubusercontent.com/InspectorJelly/BigDataMirea/refs/heads/main/datasets/data_Statistics.csv'\n",
        "data = pd.read_csv(url)"
      ],
      "metadata": {
        "id": "DDRWoe-CXK9V"
      },
      "execution_count": 3,
      "outputs": []
    },
    {
      "cell_type": "markdown",
      "source": [
        "## Задание 2\n",
        "Реализовать баггинг"
      ],
      "metadata": {
        "id": "oWbDlf_pXbXq"
      }
    },
    {
      "cell_type": "code",
      "source": [
        "numerical_features = [\n",
        "    'Placed', 'Eliminations', 'Assists', 'Revives', 'Accuracy', 'Hits',\n",
        "    'Head Shots', 'Distance Traveled', 'Materials Gathered',\n",
        "    'Materials Used', 'Damage Taken', 'Damage to Players',\n",
        "    'Damage to Structures'\n",
        "]\n",
        "X = data[numerical_features]\n",
        "\n",
        "data['Target'] = (data['Eliminations'] > 3).astype(int)\n",
        "y = data['Target']\n",
        "\n",
        "X_train, X_test, y_train, y_test = train_test_split(X, y, test_size=0.3, random_state=42)\n",
        "\n",
        "base_model = DecisionTreeClassifier(max_depth=5, random_state=42)\n",
        "\n",
        "# Настройка баггинг-классификатора\n",
        "bagging_model = BaggingClassifier(\n",
        "    estimator=base_model,  # Базовая модель\n",
        "    n_estimators=50,  # Количество базовых моделей\n",
        "    max_samples=0.8,  # Доля выборки для каждой модели\n",
        "    max_features=1.0,  # Доля признаков для каждой модели\n",
        "    random_state=42,\n",
        "    n_jobs=-1  # Использование всех ядер процессора\n",
        ")\n",
        "\n",
        "starttime = time.time()\n",
        "bagging_model.fit(X_train, y_train)\n",
        "time_bagging = time.time() - starttime\n",
        "\n",
        "y_pred = bagging_model.predict(X_test)\n",
        "accuracy_bagging = accuracy_score(y_test, y_pred)\n",
        "print(f\"Точность баггинг-классификатора: {accuracy_bagging:.2f}, время затрачено: {time_bagging:.2f}\")"
      ],
      "metadata": {
        "colab": {
          "base_uri": "https://localhost:8080/"
        },
        "id": "cG5VLR2pXgKB",
        "outputId": "69f0c269-633e-4976-81c6-37389dd84d0f"
      },
      "execution_count": 13,
      "outputs": [
        {
          "output_type": "stream",
          "name": "stdout",
          "text": [
            "Точность баггинг-классификатора: 1.00, время затрачено: 0.17\n"
          ]
        }
      ]
    },
    {
      "cell_type": "markdown",
      "source": [
        "## Задание 3\n",
        "Реализовать бустинг на тех же данных, что использовались для баггинга"
      ],
      "metadata": {
        "id": "GKpKUyj8bMZN"
      }
    },
    {
      "cell_type": "code",
      "source": [
        "data['Target'] = (data['Eliminations'] > 3).astype(int)\n",
        "y = data['Target']\n",
        "\n",
        "scaler = StandardScaler()\n",
        "X_scaled = scaler.fit_transform(X)\n",
        "X_train, X_test, y_train, y_test = train_test_split(X_scaled, y, test_size=0.3, random_state=42)\n",
        "\n",
        "boosting_model = XGBClassifier(\n",
        "    n_estimators=100,  # Количество деревьев\n",
        "    max_depth=5,  # Глубина деревьев\n",
        "    learning_rate=0.1,  # Скорость обучения\n",
        "    random_state=42,\n",
        "    use_label_encoder=False,  # Убирает предупреждение\n",
        "    eval_metric='logloss'  # Метрика для оценки (logloss подходит для классификации)\n",
        ")\n",
        "\n",
        "starttime = time.time()\n",
        "boosting_model.fit(X_train, y_train)\n",
        "time_boosting = time.time() - starttime\n",
        "\n",
        "y_pred = boosting_model.predict(X_test)\n",
        "accuracy_boosting = accuracy_score(y_test, y_pred)\n",
        "print(f\"Точность модели бустинга: {accuracy_boosting:.2f}, время затрачено: {time_boosting:.2f}\")"
      ],
      "metadata": {
        "colab": {
          "base_uri": "https://localhost:8080/"
        },
        "id": "YIlvi_VJbTTz",
        "outputId": "a061de43-8eaa-4fd5-a59b-bb33734d6f71"
      },
      "execution_count": 14,
      "outputs": [
        {
          "output_type": "stream",
          "name": "stdout",
          "text": [
            "Точность модели бустинга: 1.00, время затрачено: 0.09\n"
          ]
        },
        {
          "output_type": "stream",
          "name": "stderr",
          "text": [
            "/usr/local/lib/python3.10/dist-packages/xgboost/core.py:158: UserWarning: [10:28:24] WARNING: /workspace/src/learner.cc:740: \n",
            "Parameters: { \"use_label_encoder\" } are not used.\n",
            "\n",
            "  warnings.warn(smsg, UserWarning)\n"
          ]
        }
      ]
    },
    {
      "cell_type": "markdown",
      "source": [
        "## Задание 4\n",
        "Сравнить результаты работы алгоритмов (время работы и качество моделей). Сделать выводы."
      ],
      "metadata": {
        "id": "v8n-0esxbTnD"
      }
    },
    {
      "cell_type": "code",
      "source": [
        "if accuracy_bagging > accuracy_boosting:\n",
        "  print(\"Баггинг показал лучший результат\")\n",
        "else:\n",
        "  print(\"Бустинг показал лучший результат\")"
      ],
      "metadata": {
        "id": "XPcuyT6hbaBo",
        "colab": {
          "base_uri": "https://localhost:8080/"
        },
        "outputId": "e5538fc2-4f05-4a1f-bc75-185266140a9f"
      },
      "execution_count": 6,
      "outputs": [
        {
          "output_type": "stream",
          "name": "stdout",
          "text": [
            "Бустинг показал лучший результат\n"
          ]
        }
      ]
    }
  ]
}