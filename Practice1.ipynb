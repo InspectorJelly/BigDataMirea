{
  "cells": [
    {
      "cell_type": "markdown",
      "source": [
        "#Практическая работа 1"
      ],
      "metadata": {
        "id": "QTNWnG3B0wAN"
      },
      "id": "QTNWnG3B0wAN"
    },
    {
      "cell_type": "markdown",
      "id": "c116e163-8bc2-48e1-a304-b5568f08912d",
      "metadata": {
        "id": "c116e163-8bc2-48e1-a304-b5568f08912d"
      },
      "source": [
        "##Задание 2\n",
        "Написать программу, которая вычисляет площадь фигуры, параметры которой подаются на вход. Фигуры, которые подаются на вход: треугольник, прямоугольник, круг. Результатом работы является словарь, где ключ – это название фигуры, а значение – это площадь."
      ]
    },
    {
      "cell_type": "code",
      "execution_count": null,
      "id": "efba43fc-3151-4453-8fac-db2ed91a4b7e",
      "metadata": {
        "id": "efba43fc-3151-4453-8fac-db2ed91a4b7e"
      },
      "outputs": [],
      "source": [
        "import numpy as np\n",
        "a, b, h, r = 1, 1, 1, 1\n",
        "def triangle(a, h):\n",
        "    print(\"Введите основание и высоту треугольника\")\n",
        "    a = int(input())\n",
        "    h = int(input())\n",
        "    return (a * h / 2)\n",
        "\n",
        "def rectangle(a, b):\n",
        "    print(\"Введите стороны прямоугольника\")\n",
        "    a = int(input())\n",
        "    b = int(input())\n",
        "    return (a * b)\n",
        "\n",
        "def circle(r):\n",
        "    print(\"Введите радиус круга\")\n",
        "    r = int(input())\n",
        "    return (r ** 2 * np.pi)\n",
        "\n",
        "dict = {\"Треугольник\" : triangle(a, h), \"Прямоугольник\" : rectangle(a, b), \"Круг\" : circle(r)}\n",
        "print(dict)"
      ]
    },
    {
      "cell_type": "markdown",
      "source": [
        "##Задание 3\n",
        "Написать программу, которая на вход получает два числа и операцию, которую к ним нужно применить. Должны быть реализованы следующие операции: +, -, /, //, abs – модуль, pow или ** – возведение в степень.\n"
      ],
      "metadata": {
        "id": "edjLYD980q6V"
      },
      "id": "edjLYD980q6V"
    },
    {
      "cell_type": "code",
      "execution_count": null,
      "id": "e1148d07-203b-48f8-92c0-44bcb11b6e39",
      "metadata": {
        "id": "e1148d07-203b-48f8-92c0-44bcb11b6e39"
      },
      "outputs": [],
      "source": [
        "print(eval(input(\"Введите первое число : \") + input(\"Введите действие : \") + input(\"Введите второе число : \") ))"
      ]
    },
    {
      "cell_type": "markdown",
      "source": [
        "## Задание 4\n",
        "Напишите программу, которая считывает с консоли числа (по одному в строке) до тех пор, пока сумма введённых чисел не будет равна 0 и после этого выводит сумму квадратов всех считанных чисел."
      ],
      "metadata": {
        "id": "x-4EtnYP2s4E"
      },
      "id": "x-4EtnYP2s4E"
    },
    {
      "cell_type": "code",
      "execution_count": null,
      "id": "b2be9b9d-a819-4816-98a6-4312f1010df7",
      "metadata": {
        "id": "b2be9b9d-a819-4816-98a6-4312f1010df7"
      },
      "outputs": [],
      "source": [
        "sum = int(input())\n",
        "res = sum ** 2\n",
        "while sum != 0:\n",
        "  a = int(input())\n",
        "  sum += a\n",
        "  res += a ** 2\n",
        "print (res)"
      ]
    },
    {
      "cell_type": "markdown",
      "source": [
        "## Задание 5\n",
        "Напишите программу, которая выводит последовательность чисел, длинною N, где каждое число повторяется столько раз, чему оно равно. На вход программе передаётся неотрицательное целое число N. Например, если N = 7, то программа должна вывести 1 2 2 3 3 3 4."
      ],
      "metadata": {
        "id": "Ops0GG4K2wwV"
      },
      "id": "Ops0GG4K2wwV"
    },
    {
      "cell_type": "code",
      "source": [
        "n = int(input())\n",
        "list = []\n",
        "for i in range(1, n):\n",
        "  for j in range(i):\n",
        "    if len(list) >= n:\n",
        "      break\n",
        "    else:\n",
        "      list.append(str(i))\n",
        "print(list)"
      ],
      "metadata": {
        "id": "l2neDH4t2cqq"
      },
      "id": "l2neDH4t2cqq",
      "execution_count": null,
      "outputs": []
    },
    {
      "cell_type": "markdown",
      "source": [
        "## Задание 6\n",
        "Даны два списка. Создать словарь, в котором ключи – это содержимое списка В, а значения для ключей словаря – это сумма всех элементов списка А в соответствии с буквой, содержащийся на той же позиции в списке В."
      ],
      "metadata": {
        "id": "08ajTgEu80IH"
      },
      "id": "08ajTgEu80IH"
    },
    {
      "cell_type": "code",
      "source": [
        "A = [1, 2, 3, 4, 2, 1, 3, 4, 5, 6, 5, 4, 3, 2]\n",
        "B = ['a', 'b', 'c', 'c', 'c', 'b', 'a', 'c', 'a', 'a', 'b', 'c', 'b', 'a']\n",
        "suma, sumb, sumc = 0, 0, 0\n",
        "\n",
        "for i in range(len(B)):\n",
        "  if B[i] == 'a':\n",
        "    suma += A[i]\n",
        "  elif B[i] == 'b':\n",
        "    sumb += A[i]\n",
        "  elif B[i] == 'c':\n",
        "    sumc += A[i]\n",
        "\n",
        "res = {'a': suma, 'b': sumb, 'c': sumc}\n",
        "print(res)\n",
        "\n",
        "result = {}\n",
        "\n",
        "for i in range(len(A)):\n",
        "    key = B[i]\n",
        "    if key in result:\n",
        "        result[key] += A[i]\n",
        "    else:\n",
        "        result[key] = A[i]\n",
        "\n",
        "print(result)"
      ],
      "metadata": {
        "id": "pdERHUbQ3_DA"
      },
      "id": "pdERHUbQ3_DA",
      "execution_count": null,
      "outputs": []
    },
    {
      "cell_type": "markdown",
      "source": [
        "## Задания 7-12\n"
      ],
      "metadata": {
        "id": "vv9oAk7383d5"
      },
      "id": "vv9oAk7383d5"
    },
    {
      "cell_type": "code",
      "source": [
        "import pandas as pd\n",
        "from sklearn.datasets import fetch_california_housing\n",
        "\n",
        "data = fetch_california_housing(as_frame=True)\n",
        "print(data)\n",
        "#вывод значений для референса\n"
      ],
      "metadata": {
        "id": "NQKxDCSE86Vi"
      },
      "id": "NQKxDCSE86Vi",
      "execution_count": null,
      "outputs": []
    },
    {
      "cell_type": "code",
      "source": [
        "import pandas as pd\n",
        "from sklearn.datasets import fetch_california_housing\n",
        "\n",
        "#7\n",
        "\"\"\"Скачать и загрузить данные о стоимости домов в калифорнии, используя библиотеку sklearn.\"\"\"\n",
        "california_housing = fetch_california_housing()\n",
        "df = pd.DataFrame(data=california_housing.data, columns=california_housing.feature_names)\n",
        "df['MedHouseVal'] = california_housing.target\n",
        "\n",
        "#8\n",
        "\"\"\"Использовать метод info().\"\"\"\n",
        "print(df.info())\n",
        "\n",
        "#9\n",
        "\"\"\"Узнать, есть ли пропущенные значения, используя isna().sum().\"\"\"\n",
        "if df['MedHouseVal'].isna().sum() == True:\n",
        "  print('Some values are missing')\n",
        "else:\n",
        "  print('All values are present')\n",
        "\n",
        "#10\n",
        "\"\"\"Вывести записи, где средний возраст домов в районе более 50 лет и население более 2500 человек, используя метод loc().\"\"\"\n",
        "print(df.loc[(df['HouseAge'] > 50) & (df['Population'] > 2500)])\n",
        "\n",
        "#11\n",
        "\"\"\"Узнать максимальное и минимальное значения медианной cтоимости дома.\"\"\"\n",
        "print(df['MedHouseVal'].max())\n",
        "print(df['MedHouseVal'].min())\n",
        "\n",
        "#12\n",
        "\"\"\"Используя метод apply(), вывести на экран название признака и его среднее значение.\"\"\"\n",
        "mean_values = df.apply(lambda x: x.mean())\n",
        "for feature, mean in mean_values.items():\n",
        "    print(f\"Признак: {feature}, Среднее значение: {mean}\")"
      ],
      "metadata": {
        "id": "Q7cPp6B2qoH_"
      },
      "id": "Q7cPp6B2qoH_",
      "execution_count": null,
      "outputs": []
    },
    {
      "cell_type": "markdown",
      "source": [
        "## Задание 1*\n",
        "Дан текст на английском языке. Необходимо закодировать его с помощью азбуки Морзе, где каждой букве соответствует последовательность точек и тире."
      ],
      "metadata": {
        "id": "qmD7PJek_dx8"
      },
      "id": "qmD7PJek_dx8"
    },
    {
      "cell_type": "code",
      "source": [
        "morze = {'a': '.-', 'b': '-…', 'c': '-.-.', 'd': '-..',\n",
        " 'e': '.', 'f': '..-.', 'g': '--.', 'h': '….',\n",
        " 'i': '..', 'j': '.---', 'k': '-.-', 'l': '.-..',\n",
        " 'm': '--', 'n': '-.', 'o': '---', 'p': '.--.',\n",
        " 'q': '--.-', 'r': '.-.', 's': '…', 't': '-',\n",
        " 'u': '..-', 'v': '…-', 'w': '.--', 'x': '-..-',\n",
        " 'y': '-.--', 'z': '--..'}\n",
        "\n",
        "string = str(input())\n",
        "string = string.lower()\n",
        "words = string.split()\n",
        "for j in words:\n",
        "  res = ''\n",
        "  for i in j:\n",
        "    res += morze[i] + ' '\n",
        "  print(res)"
      ],
      "metadata": {
        "id": "DfTYIvNA9Re5"
      },
      "id": "DfTYIvNA9Re5",
      "execution_count": null,
      "outputs": []
    },
    {
      "cell_type": "markdown",
      "source": [
        "## Задание 2*\n",
        "В некотором городе открывается новая служба по доставке электронных писем. Необходимо наладить систему регистрации новых пользователей. Регистрация должна работать следующим образом: если новый пользователь хочет зарегистрироваться на сайте, то он должен послать системе запрос name со своим именем. Система должна определить, существует ли уже такое имя в базе данных. Если такого имени не существует, то оно заносится в базу данных системы и пользователю возвращается ответ \"ОК\", подтверждающий успешную регистрацию. А если пользователь с таким именем уже существует, то система должна сформировать новое имя и выдать его пользователю в качестве подсказки, при этом сама подсказка также добавляется в базу данных. Новое имя формируется следующим образом: к name последовательно приписываются числа, начиная с 1 (name1, name2 и так далее), и среди них находят такое наименьшее i, что namei еще не содержится в системе."
      ],
      "metadata": {
        "id": "E8BEfE9vIr6B"
      },
      "id": "E8BEfE9vIr6B"
    },
    {
      "cell_type": "code",
      "source": [
        "n = int(input())\n",
        "names = []\n",
        "iter = 1\n",
        "for i in range(n):\n",
        "  name = str(input())\n",
        "  if name not in names:\n",
        "    iter = 1\n",
        "    print(\"OK\")\n",
        "    names.append(name)\n",
        "  else:\n",
        "    nname = name + str(iter)\n",
        "    iter += 1\n",
        "    names.append(nname)\n",
        "    print(nname)"
      ],
      "metadata": {
        "id": "ugsnstE7DP75"
      },
      "id": "ugsnstE7DP75",
      "execution_count": null,
      "outputs": []
    },
    {
      "cell_type": "code",
      "source": [
        "def register_users(n, requests):\n",
        "    registered = set()\n",
        "    results = []\n",
        "\n",
        "    for name in requests:\n",
        "        if name not in registered:\n",
        "            registered.add(name)\n",
        "            results.append(\"OK\")\n",
        "        else:\n",
        "            i = 1\n",
        "            new_name = f\"{name}{i}\"\n",
        "            while new_name in registered:\n",
        "                i += 1\n",
        "                new_name = f\"{name}{i}\"\n",
        "            registered.add(new_name)\n",
        "            results.append(new_name)\n",
        "\n",
        "    return results\n",
        "\n",
        "n = int(input())\n",
        "requests = [input().strip() for _ in range(n)]\n",
        "responses = register_users(n, requests)\n",
        "\n",
        "for response in responses:\n",
        "    print(response)\n"
      ],
      "metadata": {
        "id": "9oxSHNaLnoHQ"
      },
      "id": "9oxSHNaLnoHQ",
      "execution_count": null,
      "outputs": []
    },
    {
      "cell_type": "markdown",
      "source": [
        "## Зaдание 3*\n",
        "Необходимо создать программу обработки запросов пользователей к файловой системе компьютера. Над каждым файлом можно производить следующие действия: запись – w (\"write\"), чтение – r (\"read\"), запуск – x(\"execute\")."
      ],
      "metadata": {
        "id": "F63eYD1eQoUC"
      },
      "id": "F63eYD1eQoUC"
    },
    {
      "cell_type": "code",
      "source": [
        "def process_file_requests(n, file_info, m, requests):\n",
        "    file_permissions = {}\n",
        "\n",
        "    for info in file_info:\n",
        "        parts = info.split()\n",
        "        filename = parts[0]\n",
        "        actions = set(parts[1:])\n",
        "        file_permissions[filename] = actions\n",
        "\n",
        "    results = []\n",
        "    for request in requests:\n",
        "        operation, filename = request.split()\n",
        "        operation_map = {\n",
        "            \"write\": \"w\",\n",
        "            \"read\": \"r\",\n",
        "            \"execute\": \"x\"\n",
        "        }\n",
        "\n",
        "        if filename in file_permissions and operation_map[operation] in file_permissions[filename]:\n",
        "            results.append(\"OK\")\n",
        "        else:\n",
        "            results.append(\"Access denied\")\n",
        "\n",
        "    return results\n",
        "\n",
        "n = int(input(\"Введите количество файлов: \"))\n",
        "file_info = [input().strip() for _ in range(n)]\n",
        "m = int(input(\"Введите количество запросов: \"))\n",
        "requests = [input().strip() for _ in range(m)]\n",
        "\n",
        "responses = process_file_requests(n, file_info, m, requests)\n",
        "\n",
        "for response in responses:\n",
        "    print(response)\n"
      ],
      "metadata": {
        "id": "009xbnXBQqXS"
      },
      "id": "009xbnXBQqXS",
      "execution_count": null,
      "outputs": []
    }
  ],
  "metadata": {
    "kernelspec": {
      "display_name": "Python 3 (ipykernel)",
      "language": "python",
      "name": "python3"
    },
    "language_info": {
      "codemirror_mode": {
        "name": "ipython",
        "version": 3
      },
      "file_extension": ".py",
      "mimetype": "text/x-python",
      "name": "python",
      "nbconvert_exporter": "python",
      "pygments_lexer": "ipython3",
      "version": "3.12.4"
    },
    "colab": {
      "provenance": []
    }
  },
  "nbformat": 4,
  "nbformat_minor": 5
}