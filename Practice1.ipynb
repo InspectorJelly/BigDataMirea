{
  "cells": [
    {
      "cell_type": "markdown",
      "source": [
        "#Практическая работа 1"
      ],
      "metadata": {
        "id": "QTNWnG3B0wAN"
      },
      "id": "QTNWnG3B0wAN"
    },
    {
      "cell_type": "markdown",
      "id": "c116e163-8bc2-48e1-a304-b5568f08912d",
      "metadata": {
        "id": "c116e163-8bc2-48e1-a304-b5568f08912d"
      },
      "source": [
        "##Задание 2"
        "Написать программу, которая вычисляет площадь фигуры, параметры которой подаются на вход. Фигуры, которые подаются на вход: треугольник, прямоугольник, круг. Результатом работы является словарь, где ключ – это название фигуры, а значение – это площадь."
      ]
    },
    {
      "cell_type": "code",
      "execution_count": null,
      "id": "efba43fc-3151-4453-8fac-db2ed91a4b7e",
      "metadata": {
        "colab": {
          "base_uri": "https://localhost:8080/"
        },
        "id": "efba43fc-3151-4453-8fac-db2ed91a4b7e",
        "outputId": "86eb2a61-bca5-4188-a146-bd3f28dcf5da"
      },
      "outputs": [
        {
          "output_type": "stream",
          "name": "stdout",
          "text": [
            "Введите основание и высоту треугольника\n",
            "2\n",
            "5\n",
            "Введите стороны прямоугольника\n",
            "3\n",
            "8\n",
            "Введите радиус круга\n",
            "3\n",
            "{'Треугольник': 5.0, 'Прямоугольник': 24, 'Круг': 28.274333882308138}\n"
          ]
        }
      ],
      "source": [
        "import numpy as np\n",
        "a, b, h, r = 1, 1, 1, 1\n",
        "def triangle(a, h):\n",
        "    print(\"Введите основание и высоту треугольника\")\n",
        "    a = int(input())\n",
        "    h = int(input())\n",
        "    return (a * h / 2)\n",
        "\n",
        "def rectangle(a, b):\n",
        "    print(\"Введите стороны прямоугольника\")\n",
        "    a = int(input())\n",
        "    b = int(input())\n",
        "    return (a * b)\n",
        "\n",
        "def circle(r):\n",
        "    print(\"Введите радиус круга\")\n",
        "    r = int(input())\n",
        "    return (r ** 2 * np.pi)\n",
        "\n",
        "dict = {\"Треугольник\" : triangle(a, h), \"Прямоугольник\" : rectangle(a, b), \"Круг\" : circle(r)}\n",
        "print(dict)"
      ]
    },
    {
      "cell_type": "markdown",
      "source": [
        "##Задание 3\n"
      ],
      "metadata": {
        "id": "edjLYD980q6V"
      },
      "id": "edjLYD980q6V"
    },
    {
      "cell_type": "code",
      "execution_count": null,
      "id": "e1148d07-203b-48f8-92c0-44bcb11b6e39",
      "metadata": {
        "colab": {
          "base_uri": "https://localhost:8080/"
        },
        "id": "e1148d07-203b-48f8-92c0-44bcb11b6e39",
        "outputId": "4e2bebad-e592-4481-e4b6-49cb680c8aee"
      },
      "outputs": [
        {
          "output_type": "stream",
          "name": "stdout",
          "text": [
            "Введите первое число : 5\n",
            "Введите действие : **\n",
            "Введите второе число : 8\n",
            "390625\n"
          ]
        }
      ],
      "source": [
        "print(eval(input(\"Введите первое число : \") + input(\"Введите действие : \") + input(\"Введите второе число : \") ))"
      ]
    },
    {
      "cell_type": "markdown",
      "source": [
        "## Задание 4"
      ],
      "metadata": {
        "id": "x-4EtnYP2s4E"
      },
      "id": "x-4EtnYP2s4E"
    },
    {
      "cell_type": "code",
      "execution_count": null,
      "id": "b2be9b9d-a819-4816-98a6-4312f1010df7",
      "metadata": {
        "colab": {
          "base_uri": "https://localhost:8080/"
        },
        "id": "b2be9b9d-a819-4816-98a6-4312f1010df7",
        "outputId": "515e129d-3338-455a-c066-cc5948912a8f"
      },
      "outputs": [
        {
          "output_type": "stream",
          "name": "stdout",
          "text": [
            "4\n",
            "2\n",
            "-6\n",
            "56\n"
          ]
        }
      ],
      "source": [
        "sum = int(input())\n",
        "res = sum ** 2\n",
        "while sum != 0:\n",
        "  a = int(input())\n",
        "  sum += a\n",
        "  res += a ** 2\n",
        "print (res)"
      ]
    },
    {
      "cell_type": "markdown",
      "source": [
        "## Задание 5"
      ],
      "metadata": {
        "id": "Ops0GG4K2wwV"
      },
      "id": "Ops0GG4K2wwV"
    },
    {
      "cell_type": "code",
      "source": [
        "n = int(input())\n",
        "list = []\n",
        "for i in range(1, n):\n",
        "  for j in range(i):\n",
        "    if len(list) >= n:\n",
        "      break\n",
        "    else:\n",
        "      list.append(str(i))\n",
        "print(list)"
      ],
      "metadata": {
        "colab": {
          "base_uri": "https://localhost:8080/"
        },
        "id": "l2neDH4t2cqq",
        "outputId": "cf712886-6709-49d8-ae68-aa151efc2374"
      },
      "id": "l2neDH4t2cqq",
      "execution_count": null,
      "outputs": [
        {
          "output_type": "stream",
          "name": "stdout",
          "text": [
            "22\n",
            "['1', '2', '2', '3', '3', '3', '4', '4', '4', '4', '5', '5', '5', '5', '5', '6', '6', '6', '6', '6', '6', '7']\n"
          ]
        }
      ]
    },
    {
      "cell_type": "markdown",
      "source": [
        "## Задание 6"
      ],
      "metadata": {
        "id": "08ajTgEu80IH"
      },
      "id": "08ajTgEu80IH"
    },
    {
      "cell_type": "code",
      "source": [
        "A = [1, 2, 3, 4, 2, 1, 3, 4, 5, 6, 5, 4, 3, 2]\n",
        "B = ['a', 'b', 'c', 'c', 'c', 'b', 'a', 'c', 'a', 'a', 'b', 'c', 'b', 'a']\n",
        "suma, sumb, sumc = 0, 0, 0\n",
        "\n",
        "for i in range(len(B)):\n",
        "  if B[i] == 'a':\n",
        "    suma += A[i]\n",
        "  elif B[i] == 'b':\n",
        "    sumb += A[i]\n",
        "  elif B[i] == 'c':\n",
        "    sumc += A[i]\n",
        "\n",
        "res = {'a': suma, 'b': sumb, 'c': sumc}\n",
        "print(res)\n",
        "\n",
        "result = {}\n",
        "\n",
        "for i in range(len(A)):\n",
        "    key = B[i]\n",
        "    if key in result:\n",
        "        result[key] += A[i]\n",
        "    else:\n",
        "        result[key] = A[i]\n",
        "\n",
        "print(result)"
      ],
      "metadata": {
        "id": "pdERHUbQ3_DA",
        "colab": {
          "base_uri": "https://localhost:8080/"
        },
        "outputId": "3301b3d5-04b3-4a21-8f07-d3d3b9752586"
      },
      "id": "pdERHUbQ3_DA",
      "execution_count": null,
      "outputs": [
        {
          "output_type": "stream",
          "name": "stdout",
          "text": [
            "{'a': 17, 'b': 11, 'c': 17}\n",
            "{'a': 17, 'b': 11, 'c': 17}\n"
          ]
        }
      ]
    },
    {
      "cell_type": "markdown",
      "source": [
        "## Задания 7-12\n"
      ],
      "metadata": {
        "id": "vv9oAk7383d5"
      },
      "id": "vv9oAk7383d5"
    },
    {
      "cell_type": "code",
      "source": [
        "import pandas as pd\n",
        "from sklearn.datasets import fetch_california_housing\n",
        "\n",
        "data = fetch_california_housing(as_frame=True)\n",
        "print(data)\n"
      ],
      "metadata": {
        "colab": {
          "base_uri": "https://localhost:8080/"
        },
        "id": "NQKxDCSE86Vi",
        "outputId": "7fa74982-26af-4e95-f799-211ae8e74120"
      },
      "id": "NQKxDCSE86Vi",
      "execution_count": null,
      "outputs": [
        {
          "output_type": "stream",
          "name": "stdout",
          "text": [
            "{'data':        MedInc  HouseAge  AveRooms  AveBedrms  Population  AveOccup  Latitude  \\\n",
            "0      8.3252      41.0  6.984127   1.023810       322.0  2.555556     37.88   \n",
            "1      8.3014      21.0  6.238137   0.971880      2401.0  2.109842     37.86   \n",
            "2      7.2574      52.0  8.288136   1.073446       496.0  2.802260     37.85   \n",
            "3      5.6431      52.0  5.817352   1.073059       558.0  2.547945     37.85   \n",
            "4      3.8462      52.0  6.281853   1.081081       565.0  2.181467     37.85   \n",
            "...       ...       ...       ...        ...         ...       ...       ...   \n",
            "20635  1.5603      25.0  5.045455   1.133333       845.0  2.560606     39.48   \n",
            "20636  2.5568      18.0  6.114035   1.315789       356.0  3.122807     39.49   \n",
            "20637  1.7000      17.0  5.205543   1.120092      1007.0  2.325635     39.43   \n",
            "20638  1.8672      18.0  5.329513   1.171920       741.0  2.123209     39.43   \n",
            "20639  2.3886      16.0  5.254717   1.162264      1387.0  2.616981     39.37   \n",
            "\n",
            "       Longitude  \n",
            "0        -122.23  \n",
            "1        -122.22  \n",
            "2        -122.24  \n",
            "3        -122.25  \n",
            "4        -122.25  \n",
            "...          ...  \n",
            "20635    -121.09  \n",
            "20636    -121.21  \n",
            "20637    -121.22  \n",
            "20638    -121.32  \n",
            "20639    -121.24  \n",
            "\n",
            "[20640 rows x 8 columns], 'target': 0        4.526\n",
            "1        3.585\n",
            "2        3.521\n",
            "3        3.413\n",
            "4        3.422\n",
            "         ...  \n",
            "20635    0.781\n",
            "20636    0.771\n",
            "20637    0.923\n",
            "20638    0.847\n",
            "20639    0.894\n",
            "Name: MedHouseVal, Length: 20640, dtype: float64, 'frame':        MedInc  HouseAge  AveRooms  AveBedrms  Population  AveOccup  Latitude  \\\n",
            "0      8.3252      41.0  6.984127   1.023810       322.0  2.555556     37.88   \n",
            "1      8.3014      21.0  6.238137   0.971880      2401.0  2.109842     37.86   \n",
            "2      7.2574      52.0  8.288136   1.073446       496.0  2.802260     37.85   \n",
            "3      5.6431      52.0  5.817352   1.073059       558.0  2.547945     37.85   \n",
            "4      3.8462      52.0  6.281853   1.081081       565.0  2.181467     37.85   \n",
            "...       ...       ...       ...        ...         ...       ...       ...   \n",
            "20635  1.5603      25.0  5.045455   1.133333       845.0  2.560606     39.48   \n",
            "20636  2.5568      18.0  6.114035   1.315789       356.0  3.122807     39.49   \n",
            "20637  1.7000      17.0  5.205543   1.120092      1007.0  2.325635     39.43   \n",
            "20638  1.8672      18.0  5.329513   1.171920       741.0  2.123209     39.43   \n",
            "20639  2.3886      16.0  5.254717   1.162264      1387.0  2.616981     39.37   \n",
            "\n",
            "       Longitude  MedHouseVal  \n",
            "0        -122.23        4.526  \n",
            "1        -122.22        3.585  \n",
            "2        -122.24        3.521  \n",
            "3        -122.25        3.413  \n",
            "4        -122.25        3.422  \n",
            "...          ...          ...  \n",
            "20635    -121.09        0.781  \n",
            "20636    -121.21        0.771  \n",
            "20637    -121.22        0.923  \n",
            "20638    -121.32        0.847  \n",
            "20639    -121.24        0.894  \n",
            "\n",
            "[20640 rows x 9 columns], 'target_names': ['MedHouseVal'], 'feature_names': ['MedInc', 'HouseAge', 'AveRooms', 'AveBedrms', 'Population', 'AveOccup', 'Latitude', 'Longitude'], 'DESCR': '.. _california_housing_dataset:\\n\\nCalifornia Housing dataset\\n--------------------------\\n\\n**Data Set Characteristics:**\\n\\n    :Number of Instances: 20640\\n\\n    :Number of Attributes: 8 numeric, predictive attributes and the target\\n\\n    :Attribute Information:\\n        - MedInc        median income in block group\\n        - HouseAge      median house age in block group\\n        - AveRooms      average number of rooms per household\\n        - AveBedrms     average number of bedrooms per household\\n        - Population    block group population\\n        - AveOccup      average number of household members\\n        - Latitude      block group latitude\\n        - Longitude     block group longitude\\n\\n    :Missing Attribute Values: None\\n\\nThis dataset was obtained from the StatLib repository.\\nhttps://www.dcc.fc.up.pt/~ltorgo/Regression/cal_housing.html\\n\\nThe target variable is the median house value for California districts,\\nexpressed in hundreds of thousands of dollars ($100,000).\\n\\nThis dataset was derived from the 1990 U.S. census, using one row per census\\nblock group. A block group is the smallest geographical unit for which the U.S.\\nCensus Bureau publishes sample data (a block group typically has a population\\nof 600 to 3,000 people).\\n\\nA household is a group of people residing within a home. Since the average\\nnumber of rooms and bedrooms in this dataset are provided per household, these\\ncolumns may take surprisingly large values for block groups with few households\\nand many empty houses, such as vacation resorts.\\n\\nIt can be downloaded/loaded using the\\n:func:`sklearn.datasets.fetch_california_housing` function.\\n\\n.. topic:: References\\n\\n    - Pace, R. Kelley and Ronald Barry, Sparse Spatial Autoregressions,\\n      Statistics and Probability Letters, 33 (1997) 291-297\\n'}\n"
          ]
        }
      ]
    },
    {
      "cell_type": "code",
      "source": [
        "import pandas as pd\n",
        "from sklearn.datasets import fetch_california_housing\n",
        "\n",
        "#7\n",
        "california_housing = fetch_california_housing()\n",
        "df = pd.DataFrame(data=california_housing.data, columns=california_housing.feature_names)\n",
        "df['MedHouseVal'] = california_housing.target\n",
        "\n",
        "#8\n",
        "print(df.info())\n",
        "\n",
        "#9\n",
        "if df['MedHouseVal'].isna().sum() == True:\n",
        "  print('Some values are missing')\n",
        "else:\n",
        "  print('All values are present')\n",
        "\n",
        "#10\n",
        "print(df.loc[(df['HouseAge'] > 50) & (df['Population'] > 2500)])\n",
        "\n",
        "#11\n",
        "print(df['MedHouseVal'].max())\n",
        "print(df['MedHouseVal'].min())\n",
        "\n",
        "#12\n",
        "mean_values = df.apply(lambda x: x.mean())\n",
        "for feature, mean in mean_values.items():\n",
        "    print(f\"Признак: {feature}, Среднее значение: {mean}\")"
      ],
      "metadata": {
        "id": "Q7cPp6B2qoH_",
        "outputId": "12f5f5e6-6136-4e25-f81c-a7e807cae4f8",
        "colab": {
          "base_uri": "https://localhost:8080/"
        }
      },
      "id": "Q7cPp6B2qoH_",
      "execution_count": null,
      "outputs": [
        {
          "output_type": "stream",
          "name": "stdout",
          "text": [
            "<class 'pandas.core.frame.DataFrame'>\n",
            "RangeIndex: 20640 entries, 0 to 20639\n",
            "Data columns (total 9 columns):\n",
            " #   Column       Non-Null Count  Dtype  \n",
            "---  ------       --------------  -----  \n",
            " 0   MedInc       20640 non-null  float64\n",
            " 1   HouseAge     20640 non-null  float64\n",
            " 2   AveRooms     20640 non-null  float64\n",
            " 3   AveBedrms    20640 non-null  float64\n",
            " 4   Population   20640 non-null  float64\n",
            " 5   AveOccup     20640 non-null  float64\n",
            " 6   Latitude     20640 non-null  float64\n",
            " 7   Longitude    20640 non-null  float64\n",
            " 8   MedHouseVal  20640 non-null  float64\n",
            "dtypes: float64(9)\n",
            "memory usage: 1.4 MB\n",
            "None\n",
            "All values are present\n",
            "       MedInc  HouseAge  AveRooms  AveBedrms  Population    AveOccup  \\\n",
            "460    1.4012      52.0  3.105714   1.060000      3337.0    9.534286   \n",
            "4131   3.5349      52.0  4.646119   1.047945      2589.0    5.910959   \n",
            "4440   2.6806      52.0  4.806283   1.057592      3062.0    4.007853   \n",
            "5986   1.8750      52.0  4.500000   1.206349      2688.0   21.333333   \n",
            "7369   3.1901      52.0  4.730942   1.017937      3731.0    4.182735   \n",
            "8227   2.3305      52.0  3.488860   1.170380      3018.0    3.955439   \n",
            "13034  6.1359      52.0  8.275862   1.517241      6675.0  230.172414   \n",
            "15634  1.8295      52.0  2.628169   1.053521      2957.0    4.164789   \n",
            "15652  0.9000      52.0  2.237474   1.053535      3260.0    2.237474   \n",
            "15657  2.5166      52.0  2.839075   1.184049      3436.0    1.621520   \n",
            "15659  1.7240      52.0  2.278566   1.082348      4518.0    1.780142   \n",
            "15795  2.5755      52.0  3.402576   1.058776      2619.0    2.108696   \n",
            "15868  2.8135      52.0  4.584329   1.041169      2987.0    3.966799   \n",
            "\n",
            "       Latitude  Longitude  MedHouseVal  \n",
            "460       37.87    -122.26      1.75000  \n",
            "4131      34.13    -118.20      1.93600  \n",
            "4440      34.08    -118.21      1.53000  \n",
            "5986      34.10    -117.71      2.12500  \n",
            "7369      33.97    -118.21      1.67600  \n",
            "8227      33.78    -118.20      1.62500  \n",
            "13034     38.69    -121.15      2.25000  \n",
            "15634     37.80    -122.41      2.43800  \n",
            "15652     37.80    -122.41      5.00001  \n",
            "15657     37.79    -122.41      2.75000  \n",
            "15659     37.79    -122.41      2.25000  \n",
            "15795     37.77    -122.42      3.25000  \n",
            "15868     37.76    -122.41      2.60300  \n",
            "5.00001\n",
            "0.14999\n",
            "Признак: MedInc, Среднее значение: 3.8706710029069766\n",
            "Признак: HouseAge, Среднее значение: 28.639486434108527\n",
            "Признак: AveRooms, Среднее значение: 5.428999742190376\n",
            "Признак: AveBedrms, Среднее значение: 1.096675149606208\n",
            "Признак: Population, Среднее значение: 1425.4767441860465\n",
            "Признак: AveOccup, Среднее значение: 3.0706551594363742\n",
            "Признак: Latitude, Среднее значение: 35.63186143410853\n",
            "Признак: Longitude, Среднее значение: -119.56970445736432\n",
            "Признак: MedHouseVal, Среднее значение: 2.068558169089147\n"
          ]
        }
      ]
    },
    {
      "cell_type": "markdown",
      "source": [
        "## Задание 1*"
      ],
      "metadata": {
        "id": "qmD7PJek_dx8"
      },
      "id": "qmD7PJek_dx8"
    },
    {
      "cell_type": "code",
      "source": [
        "morze = {'a': '.-', 'b': '-…', 'c': '-.-.', 'd': '-..',\n",
        " 'e': '.', 'f': '..-.', 'g': '--.', 'h': '….',\n",
        " 'i': '..', 'j': '.---', 'k': '-.-', 'l': '.-..',\n",
        " 'm': '--', 'n': '-.', 'o': '---', 'p': '.--.',\n",
        " 'q': '--.-', 'r': '.-.', 's': '…', 't': '-',\n",
        " 'u': '..-', 'v': '…-', 'w': '.--', 'x': '-..-',\n",
        " 'y': '-.--', 'z': '--..'}\n",
        "\n",
        "string = str(input())\n",
        "string = string.lower()\n",
        "words = string.split()\n",
        "for j in words:\n",
        "  res = ''\n",
        "  for i in j:\n",
        "    res += morze[i] + ' '\n",
        "  print(res)"
      ],
      "metadata": {
        "colab": {
          "base_uri": "https://localhost:8080/"
        },
        "id": "DfTYIvNA9Re5",
        "outputId": "f92aa0d9-be38-43ed-c1de-af3880fcc9b3"
      },
      "id": "DfTYIvNA9Re5",
      "execution_count": null,
      "outputs": [
        {
          "output_type": "stream",
          "name": "stdout",
          "text": [
            "Ignition sequence start\n",
            ".. --. -. .. - .. --- -. \n",
            "… . --.- ..- . -. -.-. . \n",
            "… - .- .-. - \n"
          ]
        }
      ]
    },
    {
      "cell_type": "markdown",
      "source": [
        "## Задание 2*"
      ],
      "metadata": {
        "id": "E8BEfE9vIr6B"
      },
      "id": "E8BEfE9vIr6B"
    },
    {
      "cell_type": "code",
      "source": [
        "n = int(input())\n",
        "names = []\n",
        "iter = 1\n",
        "for i in range(n):\n",
        "  name = str(input())\n",
        "  if name not in names:\n",
        "    iter = 1\n",
        "    print(\"OK\")\n",
        "    names.append(name)\n",
        "  else:\n",
        "    nname = name + str(iter)\n",
        "    iter += 1\n",
        "    names.append(nname)\n",
        "    print(nname)"
      ],
      "metadata": {
        "colab": {
          "base_uri": "https://localhost:8080/"
        },
        "id": "ugsnstE7DP75",
        "outputId": "da25647e-f4c9-4c18-ed86-f5d48595ad76"
      },
      "id": "ugsnstE7DP75",
      "execution_count": null,
      "outputs": [
        {
          "output_type": "stream",
          "name": "stdout",
          "text": [
            "5\n",
            "asd\n",
            "OK\n",
            "asd\n",
            "asd1\n",
            "asd\n",
            "asd2\n",
            "zxc\n",
            "OK\n",
            "zxc\n",
            "zxc1\n"
          ]
        }
      ]
    },
    {
      "cell_type": "code",
      "source": [
        "def register_users(n, requests):\n",
        "    registered = set()\n",
        "    results = []\n",
        "\n",
        "    for name in requests:\n",
        "        if name not in registered:\n",
        "            registered.add(name)\n",
        "            results.append(\"OK\")\n",
        "        else:\n",
        "            i = 1\n",
        "            new_name = f\"{name}{i}\"\n",
        "            while new_name in registered:\n",
        "                i += 1\n",
        "                new_name = f\"{name}{i}\"\n",
        "            registered.add(new_name)\n",
        "            results.append(new_name)\n",
        "\n",
        "    return results\n",
        "\n",
        "n = int(input())\n",
        "requests = [input().strip() for _ in range(n)]\n",
        "responses = register_users(n, requests)\n",
        "\n",
        "for response in responses:\n",
        "    print(response)\n"
      ],
      "metadata": {
        "colab": {
          "base_uri": "https://localhost:8080/"
        },
        "id": "9oxSHNaLnoHQ",
        "outputId": "e86c24eb-831c-4aa7-9fb8-784948533cf3"
      },
      "id": "9oxSHNaLnoHQ",
      "execution_count": null,
      "outputs": [
        {
          "output_type": "stream",
          "name": "stdout",
          "text": [
            "8\n",
            "asd\n",
            "asd\n",
            "asd\n",
            "zxc\n",
            "zxc\n",
            "asd\n",
            "zxc\n",
            "qwe\n",
            "OK\n",
            "asd1\n",
            "asd2\n",
            "OK\n",
            "zxc1\n",
            "asd3\n",
            "zxc2\n",
            "OK\n"
          ]
        }
      ]
    },
    {
      "cell_type": "markdown",
      "source": [
        "## Зaдание 3*"
      ],
      "metadata": {
        "id": "F63eYD1eQoUC"
      },
      "id": "F63eYD1eQoUC"
    },
    {
      "cell_type": "code",
      "source": [
        "def process_file_requests(n, file_info, m, requests):\n",
        "    file_permissions = {}\n",
        "\n",
        "    for info in file_info:\n",
        "        parts = info.split()\n",
        "        filename = parts[0]\n",
        "        actions = set(parts[1:])\n",
        "        file_permissions[filename] = actions\n",
        "\n",
        "    results = []\n",
        "    for request in requests:\n",
        "        operation, filename = request.split()\n",
        "        operation_map = {\n",
        "            \"write\": \"w\",\n",
        "            \"read\": \"r\",\n",
        "            \"execute\": \"x\"\n",
        "        }\n",
        "\n",
        "        if filename in file_permissions and operation_map[operation] in file_permissions[filename]:\n",
        "            results.append(\"OK\")\n",
        "        else:\n",
        "            results.append(\"Access denied\")\n",
        "\n",
        "    return results\n",
        "\n",
        "n = int(input(\"Введите количество файлов: \"))\n",
        "file_info = [input().strip() for _ in range(n)]\n",
        "m = int(input(\"Введите количество запросов: \"))\n",
        "requests = [input().strip() for _ in range(m)]\n",
        "\n",
        "responses = process_file_requests(n, file_info, m, requests)\n",
        "\n",
        "for response in responses:\n",
        "    print(response)\n"
      ],
      "metadata": {
        "id": "009xbnXBQqXS",
        "colab": {
          "base_uri": "https://localhost:8080/"
        },
        "outputId": "fc97ea3f-aab7-428c-bab9-372bf7577e91"
      },
      "id": "009xbnXBQqXS",
      "execution_count": null,
      "outputs": [
        {
          "output_type": "stream",
          "name": "stdout",
          "text": [
            "Введите количество файлов: 2\n",
            "book..txt r w\n",
            "python.exe x\n",
            "Введите количество запросов: 6\n",
            "read book..txt\n",
            "write book..txt\n",
            "execute book..txt\n",
            "read python.exe\n",
            "write python.exe\n",
            "execute python.exe\n",
            "OK\n",
            "OK\n",
            "Access denied\n",
            "Access denied\n",
            "Access denied\n",
            "OK\n"
          ]
        }
      ]
    },
    {
      "cell_type": "code",
      "source": [
        "a=\"0\"==1\n",
        "c=\"1\"!=0\n",
        "b=a or c\n",
        "d = b and b\n",
        "e = not d\n",
        "print(e)"
      ],
      "metadata": {
        "colab": {
          "base_uri": "https://localhost:8080/"
        },
        "id": "k29wC03E_Mn8",
        "outputId": "fe74d5ac-f74f-425f-9bd1-432091209661"
      },
      "id": "k29wC03E_Mn8",
      "execution_count": null,
      "outputs": [
        {
          "output_type": "stream",
          "name": "stdout",
          "text": [
            "False\n"
          ]
        }
      ]
    },
    {
      "cell_type": "code",
      "source": [],
      "metadata": {
        "id": "LRL-EI8R_Okw"
      },
      "id": "LRL-EI8R_Okw",
      "execution_count": null,
      "outputs": []
    }
  ],
  "metadata": {
    "kernelspec": {
      "display_name": "Python 3 (ipykernel)",
      "language": "python",
      "name": "python3"
    },
    "language_info": {
      "codemirror_mode": {
        "name": "ipython",
        "version": 3
      },
      "file_extension": ".py",
      "mimetype": "text/x-python",
      "name": "python",
      "nbconvert_exporter": "python",
      "pygments_lexer": "ipython3",
      "version": "3.12.4"
    },
    "colab": {
      "provenance": []
    }
  },
  "nbformat": 4,
  "nbformat_minor": 5
}
